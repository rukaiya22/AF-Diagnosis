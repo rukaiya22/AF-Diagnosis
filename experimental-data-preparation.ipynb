{
 "cells": [
  {
   "cell_type": "code",
   "execution_count": 1,
   "id": "b211320d",
   "metadata": {},
   "outputs": [],
   "source": [
    "import pandas as pd\n",
    "import numpy as np\n",
    "import random"
   ]
  },
  {
   "cell_type": "code",
   "execution_count": 2,
   "id": "2d1d39da",
   "metadata": {},
   "outputs": [],
   "source": [
    "# Set the random seed for reproducibility\n",
    "np.random.seed(42)  # For NumPy\n",
    "random.seed(42)     # For Python's built-in random module"
   ]
  },
  {
   "cell_type": "code",
   "execution_count": 3,
   "id": "e342195c",
   "metadata": {},
   "outputs": [],
   "source": [
    "# Set window size (124 time steps per sample)\n",
    "window_size = 1240"
   ]
  },
  {
   "cell_type": "code",
   "execution_count": 4,
   "id": "b46c6f73",
   "metadata": {},
   "outputs": [],
   "source": [
    "# Initialize a list to hold the reshaped data\n",
    "X_ECG = []\n",
    "X_PPG = []\n",
    "X_resp = []\n",
    "X_ECG_PPG = []\n",
    "X_ECG_resp = []\n",
    "X_PPG_resp = []\n",
    "X_all = []\n",
    "y = []"
   ]
  },
  {
   "cell_type": "code",
   "execution_count": 5,
   "id": "41863505",
   "metadata": {},
   "outputs": [],
   "source": [
    "# reading af data\n",
    "filename = \"data/mimic_perform_af_csv/mimic_perform_af_{}_data.csv\"\n",
    "\n",
    "for i in range(1, 20):\n",
    "    f = filename.format(str(i).rjust(3, '0'))\n",
    "    df = pd.read_csv(f)\n",
    "    if len(list(df.keys())) != 4:\n",
    "        continue\n",
    "    df.dropna(inplace=True)\n",
    "    # Loop through the DataFrame in windows of size `window_size`\n",
    "    for i in range(0, len(df) - window_size + 1, window_size):\n",
    "        # Extract windows of both 'PPG' and 'ECG' columns\n",
    "        PPG_window = df['PPG'].iloc[i:i+window_size].values\n",
    "        ECG_window = df['ECG'].iloc[i:i+window_size].values\n",
    "        resp_window = df['resp'].iloc[i:i+window_size].values\n",
    "        \n",
    "        # Stack both signals together to form a multi-channel input (3 channels: PPG, ECG and resp)\n",
    "        record_ECG_PPG = np.vstack((ECG_window, PPG_window)).T  # Shape will be (window_size, 2)\n",
    "        record_ECG_resp = np.vstack((ECG_window, resp_window)).T  # Shape will be (window_size, 2)\n",
    "        record_PPG_resp = np.vstack((PPG_window, resp_window)).T  # Shape will be (window_size, 2)\n",
    "        record_all = np.vstack((ECG_window, PPG_window, resp_window)).T  # Shape will be (window_size, 3)\n",
    "        X_ECG.append(ECG_window)\n",
    "        X_PPG.append(PPG_window)\n",
    "        X_resp.append(resp_window)\n",
    "        X_ECG_PPG.append(record_ECG_PPG)\n",
    "        X_ECG_resp.append(record_ECG_resp)\n",
    "        X_PPG_resp.append(record_PPG_resp)\n",
    "        X_all.append(record_all)\n",
    "        \n",
    "        # Label is 1 for each window\n",
    "        y.append(1)"
   ]
  },
  {
   "cell_type": "code",
   "execution_count": 6,
   "id": "a8ce5018",
   "metadata": {},
   "outputs": [],
   "source": [
    "# reading af data\n",
    "filename = \"data/mimic_perform_non_af_csv/mimic_perform_non_af_{}_data.csv\"\n",
    "\n",
    "for i in range(1, 16):\n",
    "    f = filename.format(str(i).rjust(3, '0'))\n",
    "    df = pd.read_csv(f)\n",
    "    if len(list(df.keys())) != 4:\n",
    "        continue\n",
    "    df.dropna(inplace=True)\n",
    "    # Loop through the DataFrame in windows of size `window_size`\n",
    "    for i in range(0, len(df) - window_size + 1, window_size):\n",
    "        # Extract windows of both 'PPG' and 'ECG' columns\n",
    "        PPG_window = df['PPG'].iloc[i:i+window_size].values\n",
    "        ECG_window = df['ECG'].iloc[i:i+window_size].values\n",
    "        resp_window = df['resp'].iloc[i:i+window_size].values\n",
    "        \n",
    "        # Stack both signals together to form a multi-channel input (3 channels: PPG, ECG and resp)\n",
    "        record_ECG_PPG = np.vstack((ECG_window, PPG_window)).T  # Shape will be (window_size, 2)\n",
    "        record_ECG_resp = np.vstack((ECG_window, resp_window)).T  # Shape will be (window_size, 2)\n",
    "        record_PPG_resp = np.vstack((PPG_window, resp_window)).T  # Shape will be (window_size, 2)\n",
    "        record_all = np.vstack((ECG_window, PPG_window, resp_window)).T  # Shape will be (window_size, 3)\n",
    "        X_ECG.append(ECG_window)\n",
    "        X_PPG.append(PPG_window)\n",
    "        X_resp.append(resp_window)\n",
    "        X_ECG_PPG.append(record_ECG_PPG)\n",
    "        X_ECG_resp.append(record_ECG_resp)\n",
    "        X_PPG_resp.append(record_PPG_resp)\n",
    "        X_all.append(record_all)\n",
    "        \n",
    "        # Label is 1 for each window\n",
    "        y.append(0)"
   ]
  },
  {
   "cell_type": "code",
   "execution_count": 7,
   "id": "20d6ab09",
   "metadata": {},
   "outputs": [
    {
     "name": "stdout",
     "output_type": "stream",
     "text": [
      "Duplicated rows:\n",
      "[]\n",
      "(3000, 1240) (3000,)\n",
      "Duplicated rows:\n",
      "[]\n",
      "(3000, 1240) (3000,)\n",
      "Duplicated rows:\n",
      "[]\n",
      "(3000, 1240) (3000,)\n",
      "Duplicated rows:\n",
      "[]\n",
      "(3000, 1240, 2) (3000,)\n",
      "Duplicated rows:\n",
      "[]\n",
      "(3000, 1240, 2) (3000,)\n",
      "Duplicated rows:\n",
      "[]\n",
      "(3000, 1240, 2) (3000,)\n",
      "Duplicated rows:\n",
      "[]\n",
      "(3000, 1240, 3) (3000,)\n"
     ]
    }
   ],
   "source": [
    "# Convert X and y to NumPy arrays\n",
    "X_ECG = np.array(X_ECG)\n",
    "X_PPG = np.array(X_PPG)\n",
    "X_resp = np.array(X_resp)\n",
    "X_ECG_PPG = np.array(X_ECG_PPG)\n",
    "X_ECG_resp = np.array(X_ECG_resp)\n",
    "X_PPG_resp = np.array(X_PPG_resp)\n",
    "X_all = np.array(X_all)\n",
    "y = np.array(y)\n",
    "\n",
    "data = [X_ECG, X_PPG, X_resp, X_ECG_PPG, X_ECG_resp, X_PPG_resp, X_all]\n",
    "for X in data:\n",
    "    # Use np.unique with axis=0 and return_inverse to identify duplicates\n",
    "    _, idx, counts = np.unique(X, axis=0, return_index=True, return_counts=True)\n",
    "\n",
    "    # Get duplicated rows\n",
    "    duplicated_rows = X[np.isin(np.arange(X.shape[0]), idx[counts > 1])]\n",
    "\n",
    "    print(\"Duplicated rows:\")\n",
    "    print(duplicated_rows)\n",
    "    print(X.shape, y.shape)"
   ]
  },
  {
   "cell_type": "code",
   "execution_count": 8,
   "id": "b731dce0",
   "metadata": {},
   "outputs": [],
   "source": [
    "for n in range(1,6,1):\n",
    "    # Shuffle row indices\n",
    "    indices = np.random.permutation(y.shape[0])\n",
    "\n",
    "    # Define train/test split ratio\n",
    "    train_ratio = 0.2\n",
    "    split_idx = int(train_ratio * len(indices))\n",
    "\n",
    "    # Split indices\n",
    "    train_idx = indices[:split_idx]\n",
    "    test_idx = indices[split_idx:]\n",
    "\n",
    "    data_names = ['X_ECG', 'X_PPG', 'X_resp', 'X_ECG_PPG', 'X_ECG_resp', 'X_PPG_resp', 'X_all']\n",
    "\n",
    "    for X,filename in zip(data, data_names):\n",
    "        # Create train/test sets\n",
    "        train_data = X[train_idx]\n",
    "        test_data = X[test_idx]\n",
    "\n",
    "        # Save to .npy files (binary format)\n",
    "        np.save(f'data/train_test_data/dataset_{n}_{filename}_train_data.npy', train_data)\n",
    "        np.save(f'data/train_test_data/dataset_{n}_{filename}_test_data.npy', test_data)\n",
    "\n",
    "    train_label = y[train_idx]\n",
    "    test_label = y[test_idx]\n",
    "    np.save(f'data/train_test_data/dataset_{n}_train_label.npy', train_label)\n",
    "    np.save(f'data/train_test_data/dataset_{n}_test_label.npy', test_label)"
   ]
  }
 ],
 "metadata": {
  "kernelspec": {
   "display_name": "Python 3 (ipykernel)",
   "language": "python",
   "name": "python3"
  },
  "language_info": {
   "codemirror_mode": {
    "name": "ipython",
    "version": 3
   },
   "file_extension": ".py",
   "mimetype": "text/x-python",
   "name": "python",
   "nbconvert_exporter": "python",
   "pygments_lexer": "ipython3",
   "version": "3.12.3"
  }
 },
 "nbformat": 4,
 "nbformat_minor": 5
}
