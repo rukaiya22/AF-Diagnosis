{
 "cells": [
  {
   "cell_type": "code",
   "execution_count": 17,
   "id": "0a9e325b",
   "metadata": {},
   "outputs": [],
   "source": [
    "import pandas as pd\n",
    "import numpy as np"
   ]
  },
  {
   "cell_type": "code",
   "execution_count": 18,
   "id": "12d89642",
   "metadata": {},
   "outputs": [],
   "source": [
    "total_dataset = 5\n",
    "n = 1"
   ]
  },
  {
   "cell_type": "code",
   "execution_count": 19,
   "id": "b902c274",
   "metadata": {},
   "outputs": [],
   "source": [
    "ecg_pred = list(pd.read_csv(f\"results/ECG-dataset-{n}-predictions.csv\")[\"Prediction\"])\n",
    "ppg_pred = list(pd.read_csv(f\"results/PPG-dataset-{n}-predictions.csv\")[\"Prediction\"])\n",
    "resp_pred = list(pd.read_csv(f\"results/resp-dataset-{n}-predictions.csv\")[\"Prediction\"])\n",
    "y_test = np.load(f'data/train_test_data/dataset_{n}_test_label.npy')\n"
   ]
  },
  {
   "cell_type": "code",
   "execution_count": 20,
   "id": "f8ce0ea0",
   "metadata": {},
   "outputs": [
    {
     "data": {
      "text/plain": [
       "array([1, 1, 1, ..., 1, 1, 1], shape=(2400,))"
      ]
     },
     "execution_count": 20,
     "metadata": {},
     "output_type": "execute_result"
    }
   ],
   "source": [
    "prediction = []\n",
    "for i in range(len(ecg_pred)):\n",
    "    prediction.append(1) if (ecg_pred[i] + ppg_pred[i] + resp_pred[i]) > 1 else prediction.append(0)\n",
    "y_test    "
   ]
  },
  {
   "cell_type": "code",
   "execution_count": 21,
   "id": "f6bf4137",
   "metadata": {},
   "outputs": [
    {
     "data": {
      "text/plain": [
       "<sklearn.metrics._plot.confusion_matrix.ConfusionMatrixDisplay at 0x7f5a5c08e140>"
      ]
     },
     "execution_count": 21,
     "metadata": {},
     "output_type": "execute_result"
    },
    {
     "data": {
      "image/png": "[encoded data removed]",
      "text/plain": [
       "<Figure size 640x480 with 2 Axes>"
      ]
     },
     "metadata": {},
     "output_type": "display_data"
    }
   ],
   "source": [
    "import matplotlib as plt\n",
    "from sklearn.metrics import confusion_matrix, ConfusionMatrixDisplay\n",
    "\n",
    "cm = confusion_matrix(y_test, prediction)\n",
    "cm_display = ConfusionMatrixDisplay(cm, display_labels=['Bad','Good'])\n",
    "cm_display.plot()\n",
    "# cm_display.ax_.set(xlabel='Predicted \\n({})'.format(sub_caption), ylabel='True')\n",
    "# plt.savefig(f'results/figures/fusion/late-fusion-dataset-{n}-confusion.eps', format='eps', bbox_inches='tight')\n",
    "# plt.show()"
   ]
  },
  {
   "cell_type": "code",
   "execution_count": 22,
   "id": "10218b94",
   "metadata": {},
   "outputs": [
    {
     "name": "stdout",
     "output_type": "stream",
     "text": [
      "True Positive Rate (TPR) / Recall:  0.943609022556391\n",
      "False Positive Rate (FPR):  0.15140186915887852\n",
      "Precision:  0.8856739590684545\n",
      "Recall:  0.943609022556391\n",
      "F1-Score:  0.9137240626137605\n",
      "accuracy:  0.90125\n"
     ]
    }
   ],
   "source": [
    "# Extracting values from the confusion matrix\n",
    "TP = cm[1, 1]  # True Positives\n",
    "TN = cm[0, 0]  # True Negatives\n",
    "FP = cm[0, 1]  # False Positives\n",
    "FN = cm[1, 0]  # False Negatives\n",
    "\n",
    "# Compute metrics\n",
    "TPR = TP / (TP + FN)  # True Positive Rate (Recall)\n",
    "FPR = FP / (FP + TN)  # False Positive Rate\n",
    "precision = TP / (TP + FP)  # Precision\n",
    "recall = TPR  # Recall is the same as TPR\n",
    "f1_score = 2 * (precision * recall) / (precision + recall)  # F1-Score\n",
    "\n",
    "# Overall accuracy\n",
    "accuracy = (TP+TN)/(TP+FP+FN+TN)\n",
    "\n",
    "# Print the metrics\n",
    "print(\"True Positive Rate (TPR) / Recall: \", TPR)\n",
    "print(\"False Positive Rate (FPR): \", FPR)\n",
    "print(\"Precision: \", precision)\n",
    "print(\"Recall: \", recall)\n",
    "print(\"F1-Score: \", f1_score)\n",
    "print(\"accuracy: \", accuracy)"
   ]
  },
  {
   "cell_type": "code",
   "execution_count": 23,
   "id": "9ab2687f",
   "metadata": {},
   "outputs": [],
   "source": [
    "with open(f'results/late-fusion-dataset-{n}-metrics.txt', 'w') as f:\n",
    "    f.write(f\"Signal,accuracy,TPR,FPR,Precision,Recall,F1-Score\\n\")\n",
    "    f.write(f\"late fusion,{accuracy},{TPR},{FPR},{precision},{recall},{f1_score}\\n\")"
   ]
  },
  {
   "cell_type": "code",
   "execution_count": 24,
   "id": "fcb04caa",
   "metadata": {},
   "outputs": [],
   "source": [
    "with open(f'results/late-fusion-dataset-{n}-accuracy.txt', 'w') as f: f.write(str(accuracy))"
   ]
  }
 ],
 "metadata": {
  "kernelspec": {
   "display_name": "Python 3 (ipykernel)",
   "language": "python",
   "name": "python3"
  },
  "language_info": {
   "codemirror_mode": {
    "name": "ipython",
    "version": 3
   },
   "file_extension": ".py",
   "mimetype": "text/x-python",
   "name": "python",
   "nbconvert_exporter": "python",
   "pygments_lexer": "ipython3",
   "version": "3.10.12"
  }
 },
 "nbformat": 4,
 "nbformat_minor": 5
}
